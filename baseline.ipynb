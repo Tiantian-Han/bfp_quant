{
 "cells": [
  {
   "cell_type": "code",
   "execution_count": 40,
   "metadata": {},
   "outputs": [
    {
     "data": {
      "text/plain": [
       "<torch._C.Generator at 0x116e770f0>"
      ]
     },
     "execution_count": 40,
     "metadata": {},
     "output_type": "execute_result"
    }
   ],
   "source": [
    "import torch\n",
    "import torchvision.transforms as transforms\n",
    "from torchvision import datasets, models\n",
    "from torch.utils.data import DataLoader\n",
    "import matplotlib.pyplot as plt\n",
    "\n",
    "import torch.nn as nn\n",
    "\n",
    "torch.manual_seed(123)"
   ]
  },
  {
   "cell_type": "code",
   "execution_count": 41,
   "metadata": {},
   "outputs": [],
   "source": [
    "model = nn.Sequential(\n",
    "    nn.Flatten(),\n",
    "    nn.Linear(28*28, 256),\n",
    "    nn.ReLU(),\n",
    "    nn.Linear(256, 64),\n",
    "    nn.ReLU(),\n",
    "    nn.Linear(64, 10),\n",
    "    nn.Softmax(dim=-1)\n",
    ")"
   ]
  },
  {
   "cell_type": "code",
   "execution_count": 42,
   "metadata": {},
   "outputs": [],
   "source": [
    "train_dataset = datasets.MNIST(\n",
    "    root=\"./data\", train=True, download=True, transform=transforms.ToTensor()\n",
    ")\n",
    "test_dataset = datasets.MNIST(\n",
    "    root=\"./data\", train=False, download=True, transform=transforms.ToTensor()\n",
    ")\n",
    "train_loader = DataLoader(train_dataset, batch_size=64, shuffle=True)\n",
    "test_loader = DataLoader(test_dataset, batch_size=64, shuffle=False)"
   ]
  },
  {
   "cell_type": "code",
   "execution_count": 43,
   "metadata": {},
   "outputs": [],
   "source": [
    "def train_loop(dataloader, model, loss_fn, optimizer):\n",
    "    size = len(dataloader.dataset)\n",
    "\n",
    "    for batch, (X, y) in enumerate(dataloader):\n",
    "        X = X.to(\"mps\")\n",
    "        y = y.to(\"mps\")\n",
    "\n",
    "        pred = model(X)\n",
    "        loss = loss_fn(pred, y)\n",
    "\n",
    "        loss.backward()\n",
    "        optimizer.step()\n",
    "        optimizer.zero_grad()\n",
    "\n",
    "        if batch % 100 == 0:\n",
    "            loss, current = loss.item(), batch * 64 + len(X)\n",
    "            print(f\"loss: {loss:>7f}  [{current:>5d}/{size:>5d}]\")"
   ]
  },
  {
   "cell_type": "code",
   "execution_count": 44,
   "metadata": {},
   "outputs": [],
   "source": [
    "# Step 3: Define the evaluation metric\n",
    "def accuracy(outputs, labels):\n",
    "    _, preds = torch.max(outputs, 1)\n",
    "    return torch.tensor(torch.sum(preds == labels).item() / len(preds))"
   ]
  },
  {
   "cell_type": "code",
   "execution_count": 45,
   "metadata": {},
   "outputs": [],
   "source": [
    "\n",
    "def testing_loop(dataloader, model):\n",
    "    # Step 4: Evaluate the model on the test set\n",
    "    total_accuracy = 0\n",
    "    total_samples = 0\n",
    "\n",
    "    with torch.no_grad():\n",
    "        for images, labels in dataloader:\n",
    "            images, labels = images.to(\"mps\"), labels.to(\"mps\")\n",
    "\n",
    "            outputs = model(images)\n",
    "            total_accuracy += accuracy(outputs, labels) * images.size(0)\n",
    "            total_samples += images.size(0)\n",
    "\n",
    "    print(f\"Accuracy: {total_accuracy/total_samples}\")"
   ]
  },
  {
   "cell_type": "code",
   "execution_count": 46,
   "metadata": {},
   "outputs": [
    {
     "name": "stdout",
     "output_type": "stream",
     "text": [
      "Epoch 1\n",
      "-------------------------------\n",
      "loss: 2.301933  [   64/60000]\n",
      "loss: 1.659880  [ 6464/60000]\n",
      "loss: 1.649729  [12864/60000]\n",
      "loss: 1.583541  [19264/60000]\n",
      "loss: 1.656278  [25664/60000]\n",
      "loss: 1.575230  [32064/60000]\n",
      "loss: 1.691150  [38464/60000]\n",
      "loss: 1.551231  [44864/60000]\n",
      "loss: 1.565714  [51264/60000]\n",
      "loss: 1.552674  [57664/60000]\n",
      "Accuracy: 0.916100025177002\n",
      "Epoch 2\n",
      "-------------------------------\n",
      "loss: 1.529373  [   64/60000]\n",
      "loss: 1.512843  [ 6464/60000]\n",
      "loss: 1.567832  [12864/60000]\n",
      "loss: 1.514372  [19264/60000]\n",
      "loss: 1.507453  [25664/60000]\n",
      "loss: 1.569365  [32064/60000]\n",
      "loss: 1.498040  [38464/60000]\n",
      "loss: 1.492977  [44864/60000]\n",
      "loss: 1.492941  [51264/60000]\n",
      "loss: 1.514031  [57664/60000]\n",
      "Accuracy: 0.9503999948501587\n",
      "Epoch 3\n",
      "-------------------------------\n",
      "loss: 1.512353  [   64/60000]\n",
      "loss: 1.500756  [ 6464/60000]\n",
      "loss: 1.520612  [12864/60000]\n",
      "loss: 1.502595  [19264/60000]\n",
      "loss: 1.498765  [25664/60000]\n",
      "loss: 1.507863  [32064/60000]\n",
      "loss: 1.497060  [38464/60000]\n",
      "loss: 1.473960  [44864/60000]\n",
      "loss: 1.486725  [51264/60000]\n",
      "loss: 1.564615  [57664/60000]\n",
      "Accuracy: 0.9524999856948853\n",
      "Epoch 4\n",
      "-------------------------------\n",
      "loss: 1.492986  [   64/60000]\n",
      "loss: 1.509149  [ 6464/60000]\n",
      "loss: 1.496726  [12864/60000]\n",
      "loss: 1.513284  [19264/60000]\n",
      "loss: 1.509281  [25664/60000]\n",
      "loss: 1.493860  [32064/60000]\n",
      "loss: 1.472070  [38464/60000]\n",
      "loss: 1.506544  [44864/60000]\n",
      "loss: 1.507871  [51264/60000]\n",
      "loss: 1.538573  [57664/60000]\n",
      "Accuracy: 0.9642000198364258\n",
      "Epoch 5\n",
      "-------------------------------\n",
      "loss: 1.474749  [   64/60000]\n",
      "loss: 1.492804  [ 6464/60000]\n",
      "loss: 1.490288  [12864/60000]\n",
      "loss: 1.500495  [19264/60000]\n",
      "loss: 1.469892  [25664/60000]\n",
      "loss: 1.505449  [32064/60000]\n",
      "loss: 1.482175  [38464/60000]\n",
      "loss: 1.462490  [44864/60000]\n",
      "loss: 1.492526  [51264/60000]\n",
      "loss: 1.499600  [57664/60000]\n",
      "Accuracy: 0.9703999757766724\n"
     ]
    }
   ],
   "source": [
    "loss = nn.CrossEntropyLoss()\n",
    "optim = torch.optim.Adam(model.parameters())\n",
    "\n",
    "model = model.to(\"mps\")\n",
    "loss = loss.to(\"mps\")\n",
    "model.train()\n",
    "\n",
    "for t in range(5):\n",
    "    print(f\"Epoch {t+1}\\n-------------------------------\")\n",
    "    train_loop(train_loader, model, loss, optim)\n",
    "    testing_loop(test_loader, model)"
   ]
  },
  {
   "cell_type": "code",
   "execution_count": 47,
   "metadata": {},
   "outputs": [
    {
     "data": {
      "text/plain": [
       "tensor([[    0.0000,     0.0000,     0.0000,     0.0000,     0.0000,     0.0000,\n",
       "             1.0000,     0.0000,     0.0000,     0.0000]],\n",
       "       grad_fn=<SoftmaxBackward0>)"
      ]
     },
     "execution_count": 47,
     "metadata": {},
     "output_type": "execute_result"
    },
    {
     "data": {
      "image/png": "[encoded data removed]",
      "text/plain": [
       "<Figure size 640x480 with 1 Axes>"
      ]
     },
     "metadata": {},
     "output_type": "display_data"
    }
   ],
   "source": [
    "i = 90\n",
    "data = train_dataset[i]\n",
    "plt.imshow(data[0].reshape((28, 28, 1)))\n",
    "data[1]\n",
    "\n",
    "torch.set_printoptions(sci_mode=False)\n",
    "model.to(\"cpu\")(data[0])"
   ]
  },
  {
   "cell_type": "code",
   "execution_count": null,
   "metadata": {},
   "outputs": [],
   "source": []
  }
 ],
 "metadata": {
  "kernelspec": {
   "display_name": "latest",
   "language": "python",
   "name": "python3"
  },
  "language_info": {
   "codemirror_mode": {
    "name": "ipython",
    "version": 3
   },
   "file_extension": ".py",
   "mimetype": "text/x-python",
   "name": "python",
   "nbconvert_exporter": "python",
   "pygments_lexer": "ipython3",
   "version": "3.11.5"
  }
 },
 "nbformat": 4,
 "nbformat_minor": 2
}
